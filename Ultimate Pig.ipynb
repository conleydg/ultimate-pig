{
 "cells": [
  {
   "cell_type": "code",
   "execution_count": 1,
   "metadata": {
    "collapsed": true
   },
   "outputs": [],
   "source": [
    "%matplotlib inline"
   ]
  },
  {
   "cell_type": "code",
   "execution_count": 2,
   "metadata": {
    "collapsed": true
   },
   "outputs": [],
   "source": [
    "import math\n",
    "import random\n",
    "import statistics as st\n",
    "import numpy as np\n",
    "import matplotlib.pyplot as plt\n",
    "import pandas as pd\n",
    "import seaborn as sns\n",
    "from scipy import stats, integrate"
   ]
  },
  {
   "cell_type": "markdown",
   "metadata": {},
   "source": [
    "# Super Class #"
   ]
  },
  {
   "cell_type": "code",
   "execution_count": 3,
   "metadata": {
    "collapsed": false
   },
   "outputs": [],
   "source": [
    "class Player:\n",
    "    def __init__(self, name):\n",
    "        self.name = name\n",
    "    \n",
    "        \n",
    "    def break_loop(self, previous_rolls, turn_score):\n",
    "        if previous_rolls > 0:\n",
    "            return False\n",
    "        else:\n",
    "            return True\n",
    "    \n",
    "    \n",
    "    def play_turn(self):\n",
    "        previous_rolls = 0\n",
    "        turn_score = 0\n",
    "        while self.break_loop(previous_rolls, turn_score):\n",
    "            roll = random.randint(1, 6)\n",
    "            if roll == 1:\n",
    "                return 0\n",
    "            else:\n",
    "                turn_score += roll\n",
    "                previous_rolls += 1\n",
    "        return turn_score      \n",
    "    \n",
    "    "
   ]
  },
  {
   "cell_type": "markdown",
   "metadata": {},
   "source": [
    "## Subclass 1 ##"
   ]
  },
  {
   "cell_type": "code",
   "execution_count": 4,
   "metadata": {
    "collapsed": true
   },
   "outputs": [],
   "source": [
    "class Player_break_by_num_rolls(Player):\n",
    "    def __init__(self, rolls_to_break):\n",
    "        self.rolls_to_break = rolls_to_break\n",
    "        \n",
    "        \n",
    "    def break_loop(self, previous_rolls, turn_score):\n",
    "        if previous_rolls >= self.rolls_to_break:\n",
    "            return False\n",
    "        else:\n",
    "            return True\n",
    "\n",
    "        "
   ]
  },
  {
   "cell_type": "markdown",
   "metadata": {},
   "source": [
    "## Subclass 2 ##"
   ]
  },
  {
   "cell_type": "code",
   "execution_count": 5,
   "metadata": {
    "collapsed": false
   },
   "outputs": [],
   "source": [
    "class Player_break_by_bank_amt(Player):\n",
    "    def __init__(self, bank_amount_to_break):\n",
    "        self.bank_amount_to_break = bank_amount_to_break\n",
    "        \n",
    "    def break_loop(self, previous_rolls, turn_score):\n",
    "        if turn_score >= self.bank_amount_to_break:\n",
    "            return False\n",
    "        else:\n",
    "            return True"
   ]
  },
  {
   "cell_type": "markdown",
   "metadata": {},
   "source": [
    "## Game + Gameloop ##"
   ]
  },
  {
   "cell_type": "code",
   "execution_count": 6,
   "metadata": {
    "collapsed": true
   },
   "outputs": [],
   "source": [
    "def game(player):\n",
    "    turn = 1\n",
    "    score = 0\n",
    "    while turn < 8:\n",
    "        turn_score = player.play_turn()\n",
    "        score += turn_score\n",
    "        turn += 1\n",
    "    return score\n",
    "        \n",
    " \n",
    "        "
   ]
  },
  {
   "cell_type": "code",
   "execution_count": 7,
   "metadata": {
    "collapsed": true
   },
   "outputs": [],
   "source": [
    "def game_loop(num_of_sims, player):\n",
    "    scores = []\n",
    "    count_of_sims = 0\n",
    "    while count_of_sims < num_of_sims:\n",
    "        player_score = game(player)\n",
    "        scores.append(player_score)\n",
    "        count_of_sims += 1\n",
    "    return scores"
   ]
  },
  {
   "cell_type": "markdown",
   "metadata": {},
   "source": [
    "## Finding optimal number of rolls before banking ##"
   ]
  },
  {
   "cell_type": "code",
   "execution_count": 8,
   "metadata": {
    "collapsed": true
   },
   "outputs": [],
   "source": [
    "def game_loops_with_changing_rolls(max_num_rolls, num_of_sims):\n",
    "    rolls_break = 1\n",
    "    list_of_game_results = []\n",
    "    while rolls_break <= max_num_rolls:\n",
    "        player = Player_break_by_num_rolls(rolls_break)\n",
    "        results = game_loop(num_of_sims, player)\n",
    "        list_of_game_results.append(results)\n",
    "        rolls_break += 1\n",
    "    return list_of_game_results"
   ]
  },
  {
   "cell_type": "code",
   "execution_count": null,
   "metadata": {
    "collapsed": false
   },
   "outputs": [],
   "source": [
    "player_two_delta_rolls = game_loops_with_changing_rolls(30, 100000)"
   ]
  },
  {
   "cell_type": "code",
   "execution_count": null,
   "metadata": {
    "collapsed": true
   },
   "outputs": [],
   "source": [
    "mean_by_num_of_rolls_before_break = [st.mean(list) for list in player_two_delta_rolls]"
   ]
  },
  {
   "cell_type": "code",
   "execution_count": null,
   "metadata": {
    "collapsed": true
   },
   "outputs": [],
   "source": [
    "stdev_by_num_of_rolls_before_break = [st.stdev(list) for list in player_two_delta_rolls]"
   ]
  },
  {
   "cell_type": "code",
   "execution_count": null,
   "metadata": {
    "collapsed": true
   },
   "outputs": [],
   "source": [
    "median_by_num_of_rolls_before_break = [st.median(list) for list in player_two_delta_rolls]"
   ]
  },
  {
   "cell_type": "code",
   "execution_count": null,
   "metadata": {
    "collapsed": true
   },
   "outputs": [],
   "source": [
    "max_by_num_of_rolls_before_break = [max(list) for list in player_two_delta_rolls]"
   ]
  },
  {
   "cell_type": "code",
   "execution_count": null,
   "metadata": {
    "collapsed": true
   },
   "outputs": [],
   "source": [
    "min_by_num_of_rolls_before_break = [min(list) for list in player_two_delta_rolls]"
   ]
  },
  {
   "cell_type": "code",
   "execution_count": null,
   "metadata": {
    "collapsed": false
   },
   "outputs": [],
   "source": [
    "plt.plot(median_by_num_of_rolls_before_break, color='black', label=\"median\")\n",
    "plt.plot(min_by_num_of_rolls_before_break, label=\"min\")\n",
    "plt.plot(mean_by_num_of_rolls_before_break, label=\"mean\")\n",
    "plt.plot(stdev_by_num_of_rolls_before_break, label=\"stdev\")\n",
    "\n",
    "plt.legend(loc='upper right')\n",
    "\n",
    "plt.show()"
   ]
  },
  {
   "cell_type": "markdown",
   "metadata": {},
   "source": [
    "## Finding optimal current turn amount before banking ##"
   ]
  },
  {
   "cell_type": "code",
   "execution_count": null,
   "metadata": {
    "collapsed": true
   },
   "outputs": [],
   "source": [
    "def game_loops_with_changing_bank_amt(max_num_of_bank, num_of_sims):\n",
    "    when_to_bank = 1\n",
    "    list_results = []\n",
    "    while when_to_bank <= max_num_of_bank:\n",
    "        player_one = Player_break_by_bank_amt(when_to_bank)\n",
    "        results = game_loop(num_of_sims, player_one)\n",
    "        list_results.append(results)\n",
    "        when_to_bank += 1\n",
    "    return list_results"
   ]
  },
  {
   "cell_type": "code",
   "execution_count": null,
   "metadata": {
    "collapsed": false
   },
   "outputs": [],
   "source": [
    "player_three_delta_banks = game_loops_with_changing_bank_amt(30, 100000)"
   ]
  },
  {
   "cell_type": "code",
   "execution_count": null,
   "metadata": {
    "collapsed": true
   },
   "outputs": [],
   "source": [
    "mean_by_bank_break = [st.mean(list) for list in player_three_delta_banks]"
   ]
  },
  {
   "cell_type": "code",
   "execution_count": null,
   "metadata": {
    "collapsed": true
   },
   "outputs": [],
   "source": [
    "stdev_by_bank_break = [st.stdev(list) for list in player_three_delta_banks]"
   ]
  },
  {
   "cell_type": "code",
   "execution_count": null,
   "metadata": {
    "collapsed": true
   },
   "outputs": [],
   "source": [
    "max_by_bank_break = [max(list) for list in player_three_delta_banks]"
   ]
  },
  {
   "cell_type": "code",
   "execution_count": null,
   "metadata": {
    "collapsed": true
   },
   "outputs": [],
   "source": [
    "min_by_bank_break = [min(list) for list in player_three_delta_banks]"
   ]
  },
  {
   "cell_type": "code",
   "execution_count": null,
   "metadata": {
    "collapsed": false
   },
   "outputs": [],
   "source": [
    "median_by_bank_break = [st.median(list) for list in player_three_delta_banks]"
   ]
  },
  {
   "cell_type": "code",
   "execution_count": null,
   "metadata": {
    "collapsed": false
   },
   "outputs": [],
   "source": [
    "plt.plot(median_by_bank_break, color='black', label=\"median\")\n",
    "plt.plot(min_by_bank_break, color='green', label=\"min\")\n",
    "plt.plot(mean_by_bank_break, color='yellow', label=\"mean\")\n",
    "plt.plot(stdev_by_bank_break, color='blue', label=\"stdev\")\n",
    "\n",
    "plt.legend(loc='upper left')\n",
    "\n",
    "plt.show()"
   ]
  },
  {
   "cell_type": "markdown",
   "metadata": {},
   "source": [
    "## Comparing stats from both methods ##"
   ]
  },
  {
   "cell_type": "markdown",
   "metadata": {},
   "source": [
    "### Comparing Means from both methods ###"
   ]
  },
  {
   "cell_type": "code",
   "execution_count": null,
   "metadata": {
    "collapsed": false
   },
   "outputs": [],
   "source": [
    "plt.plot(mean_by_bank_break, label=\"Break by turn total mean\")\n",
    "plt.plot(mean_by_num_of_rolls_before_break, label=\"Break by number of rolls count mean\")\n",
    "plt.legend(loc='lower left')\n",
    "plt.show()"
   ]
  },
  {
   "cell_type": "markdown",
   "metadata": {},
   "source": [
    "### Comparing st. devs from both methods ###"
   ]
  },
  {
   "cell_type": "code",
   "execution_count": null,
   "metadata": {
    "collapsed": false
   },
   "outputs": [],
   "source": [
    "\n",
    "plt.plot(stdev_by_bank_break, label='Break by turn total stdev')\n",
    "plt.plot(stdev_by_num_of_rolls_before_break, label='Break by number of rolls count stdev')\n",
    "plt.legend(loc='upper right')\n",
    "plt.show()\n"
   ]
  },
  {
   "cell_type": "markdown",
   "metadata": {},
   "source": [
    "### Comparing means and st. devs from both methods ###"
   ]
  },
  {
   "cell_type": "code",
   "execution_count": null,
   "metadata": {
    "collapsed": false
   },
   "outputs": [],
   "source": [
    "plt.plot(mean_by_bank_break, label=\"Break by turn total mean\")\n",
    "plt.plot(mean_by_num_of_rolls_before_break, label='Break by number of rolls count mean')\n",
    "plt.plot(stdev_by_bank_break, label=\"Break by turn total stdev\")\n",
    "plt.plot(stdev_by_num_of_rolls_before_break, label=\"Break by number of rolls count stdev\")\n",
    "\n",
    "plt.legend(loc='upper right')\n",
    "plt.show()\n"
   ]
  },
  {
   "cell_type": "markdown",
   "metadata": {},
   "source": [
    "### Comparing max values from both methods ###"
   ]
  },
  {
   "cell_type": "code",
   "execution_count": null,
   "metadata": {
    "collapsed": false
   },
   "outputs": [],
   "source": [
    "plt.plot(max_by_num_of_rolls_before_break, label=\"Max score break by number of rolls count\")\n",
    "plt.plot(max_by_bank_break, label=\"Max score break by turn total\")\n",
    "\n",
    "plt.legend(loc='upper left')\n",
    "plt.show()"
   ]
  },
  {
   "cell_type": "markdown",
   "metadata": {},
   "source": [
    "## Creating players from both methods and playing them against eachother ##"
   ]
  },
  {
   "cell_type": "code",
   "execution_count": null,
   "metadata": {
    "collapsed": true
   },
   "outputs": [],
   "source": [
    "five_rolls_per_turn = Player_break_by_num_rolls(5)\n",
    "breaks_at_turn_count_17 = Player_break_by_bank_amt(17)"
   ]
  },
  {
   "cell_type": "code",
   "execution_count": null,
   "metadata": {
    "collapsed": true
   },
   "outputs": [],
   "source": [
    "def pvp_game(player_one, player_two, number_of_games):\n",
    "    count_of_games = 0\n",
    "    player_one_wins = 0\n",
    "    player_two_wins = 0\n",
    "    player_one_list = []\n",
    "    player_two_list = []\n",
    "    while count_of_games < number_of_games:\n",
    "        player_one_round = game(player_one)\n",
    "        player_two_round = game(player_two) \n",
    "        if player_one_round > player_two_round:\n",
    "            player_one_wins += 1\n",
    "        elif count_of_games % 1000 == 0:\n",
    "            player_one_list.append(player_one_wins)\n",
    "            player_two_list.append(player_two_wins)\n",
    "        else:\n",
    "            player_two_wins += 1\n",
    "        count_of_games += 1\n",
    "    return player_one_wins, player_two_wins, player_one_list, player_two_list\n",
    "         "
   ]
  },
  {
   "cell_type": "code",
   "execution_count": null,
   "metadata": {
    "collapsed": false
   },
   "outputs": [],
   "source": [
    "five_rolls_per_turn, breaks_at_turn_count_17, roll_count_wins, turn_count_wins = pvp_game(five_rolls_per_turn, breaks_at_turn_count_17, 1000000)"
   ]
  },
  {
   "cell_type": "code",
   "execution_count": null,
   "metadata": {
    "collapsed": false
   },
   "outputs": [],
   "source": [
    "print(five_rolls_per_turn)"
   ]
  },
  {
   "cell_type": "code",
   "execution_count": null,
   "metadata": {
    "collapsed": false
   },
   "outputs": [],
   "source": [
    "print(breaks_at_turn_count_17)"
   ]
  },
  {
   "cell_type": "code",
   "execution_count": null,
   "metadata": {
    "collapsed": false
   },
   "outputs": [],
   "source": [
    "plt.plot(roll_count_wins, label='roll count wins')\n",
    "plt.plot(turn_count_wins, label='turn count wins')\n",
    "\n",
    "\n",
    "plt.legend(loc='upper left')\n",
    "plt.show()\n",
    "\n"
   ]
  },
  {
   "cell_type": "code",
   "execution_count": null,
   "metadata": {
    "collapsed": true
   },
   "outputs": [],
   "source": []
  }
 ],
 "metadata": {
  "kernelspec": {
   "display_name": "Python 3",
   "language": "python",
   "name": "python3"
  },
  "language_info": {
   "codemirror_mode": {
    "name": "ipython",
    "version": 3
   },
   "file_extension": ".py",
   "mimetype": "text/x-python",
   "name": "python",
   "nbconvert_exporter": "python",
   "pygments_lexer": "ipython3",
   "version": "3.5.1"
  }
 },
 "nbformat": 4,
 "nbformat_minor": 0
}
